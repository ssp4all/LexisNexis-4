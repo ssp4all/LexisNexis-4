{
 "cells": [
  {
   "cell_type": "code",
   "execution_count": 102,
   "metadata": {},
   "outputs": [
    {
     "name": "stdout",
     "output_type": "stream",
     "text": [
      "Counts 1 and 2: 1 day Imprisonment; $500.00 Fine; $20.00 Special Assessment.\n"
     ]
    }
   ],
   "source": [
    "import json\n",
    "import sys\n",
    "import os\n",
    "\n",
    "if os.name == 'nt':\n",
    "    try:\n",
    "        here = sys.path[0]\n",
    "        p = here + \"\\\\data\\\\US.AK\\\\closed\\\\5GN2-XGG1-DXDT-G4MK-00000-00.json\"\n",
    "        with open(p) as data_file:\n",
    "            data = json.load(data_file)\n",
    "        try:\n",
    "#             print(data[\"parties\"])\n",
    "            d = data[\"parties\"][0][\"charges\"][1]['charge_disposition']\n",
    "            d.split()\n",
    "            print(d)\n",
    "#             for i in data[\"parties\"][0][\"charges\"]:\n",
    "#                 print(i)\n",
    "#                 for j in i:\n",
    "#                     print(j)\n",
    "#                     if j[\"charge_disposition\"]:\n",
    "#                         print(j[\"charge_disposition\"][0])\n",
    "#                     print(i)\n",
    "#                     a = i[\"charges\"][1]\n",
    "#                     print(a[charge_disposition])\n",
    "                \n",
    "        except TypeError:\n",
    "            print(\"Error\")\n",
    "        \n",
    "    except FileNotFoundError:\n",
    "        print('File Not Found Error')\n",
    "else :\n",
    "    print(\"Error\")"
   ]
  },
  {
   "cell_type": "code",
   "execution_count": 7,
   "metadata": {},
   "outputs": [
    {
     "name": "stdout",
     "output_type": "stream",
     "text": [
      "G:\\LexisNexis\\LexisNexis-4\n"
     ]
    }
   ],
   "source": [
    "print(sys.path[0])"
   ]
  }
 ],
 "metadata": {
  "kernelspec": {
   "display_name": "Python 3",
   "language": "python",
   "name": "python3"
  },
  "language_info": {
   "codemirror_mode": {
    "name": "ipython",
    "version": 3
   },
   "file_extension": ".py",
   "mimetype": "text/x-python",
   "name": "python",
   "nbconvert_exporter": "python",
   "pygments_lexer": "ipython3",
   "version": "3.7.4"
  }
 },
 "nbformat": 4,
 "nbformat_minor": 2
}
