{
 "cells": [
  {
   "cell_type": "code",
   "execution_count": 127,
   "metadata": {},
   "outputs": [
    {
     "name": "stdout",
     "output_type": "stream",
     "text": [
      "18:1711 MISAPPROPRIATION OF POSTAL FUNDS(1)\n",
      "['$2000.00']\n"
     ]
    }
   ],
   "source": [
    "import json\n",
    "import sys\n",
    "import os\n",
    "\n",
    "alcohol = []\n",
    "\n",
    "if os.name == 'nt':\n",
    "    try:\n",
    "        here = sys.path[0]\n",
    "        p = here + \"\\\\data\\\\US.AK\\\\closed\\\\7WBN-MWM0-Y892-B2M2-00000-00.json\"\n",
    "        with open(p) as data_file:\n",
    "            data = json.load(data_file)\n",
    "        try:\n",
    "#             print(data[\"parties\"])\n",
    "            charge_desc = data[\"parties\"][0][\"charges\"][0]['charge_description']\n",
    "            print(charge_desc)\n",
    "            d = data[\"parties\"][0][\"charges\"][1]['charge_disposition'].split(\"; \")\n",
    "#             d = \n",
    "            for i in d:\n",
    "                splitt = i.split(\" \")\n",
    "                if 'Fine' in splitt:\n",
    "#                     print(splitt)\n",
    "                    temp = 0\n",
    "                    for z in splitt:\n",
    "                        if z[0] is \"$\":\n",
    "                                alcohol.append(splitt[temp])\n",
    "                        temp += 1\n",
    "            print(alcohol)\n",
    "            \n",
    "                \n",
    "        except TypeError:\n",
    "            print(\"Error\")\n",
    "        \n",
    "    except FileNotFoundError:\n",
    "        print('File Not Found Error')\n",
    "else :\n",
    "    print(\"Error\")"
   ]
  },
  {
   "cell_type": "code",
   "execution_count": 7,
   "metadata": {},
   "outputs": [
    {
     "name": "stdout",
     "output_type": "stream",
     "text": [
      "G:\\LexisNexis\\LexisNexis-4\n"
     ]
    }
   ],
   "source": [
    "print(sys.path[0])"
   ]
  }
 ],
 "metadata": {
  "kernelspec": {
   "display_name": "Python 3",
   "language": "python",
   "name": "python3"
  },
  "language_info": {
   "codemirror_mode": {
    "name": "ipython",
    "version": 3
   },
   "file_extension": ".py",
   "mimetype": "text/x-python",
   "name": "python",
   "nbconvert_exporter": "python",
   "pygments_lexer": "ipython3",
   "version": "3.7.4"
  }
 },
 "nbformat": 4,
 "nbformat_minor": 2
}
