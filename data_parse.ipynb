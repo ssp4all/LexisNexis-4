{
 "cells": [
  {
   "cell_type": "markdown",
   "metadata": {},
   "source": [
    "## Function to traverse all the files"
   ]
  },
  {
   "cell_type": "code",
   "execution_count": 50,
   "metadata": {},
   "outputs": [],
   "source": [
    "import json\n",
    "import sys\n",
    "import os\n",
    "\n",
    "def extract_desposition_charges(filename):\n",
    "    \"\"\"\n",
    "    Print the desposition charges\n",
    "    \"\"\"\n",
    "    \n",
    "    \n",
    "    if os.name == 'nt':\n",
    "        \n",
    "        try:\n",
    "            ans = []\n",
    "#             here = sys.path[0]\n",
    "#             p = here + \"\\\\data\\\\US.AK\\\\closed\\\\7WBN-MWM0-Y892-B2M2-00000-00.json\"\n",
    "            with open(filename) as data_file:\n",
    "                print(filename)\n",
    "                data = json.load(data_file)\n",
    "            \n",
    "                try:\n",
    "                    charge_desc = data[\"parties\"][0][\"charges\"][0]['charge_description']\n",
    "#                     print(charge_desc)\n",
    "\n",
    "                    charge_dispositions = data[\"parties\"][0][\"charges\"][1]['charge_disposition'].split(\"; \")\n",
    "#                     print(charge_dispositions)\n",
    "                    ans.extend([charge_desc, charge_dispositions])    \n",
    "\n",
    "                except TypeError:\n",
    "                    pass\n",
    "                except KeyError:\n",
    "                    pass\n",
    "                except IndexError:\n",
    "                    pass\n",
    "            \n",
    "        except FileNotFoundError:\n",
    "            print('File Not Found Error')\n",
    "    else :\n",
    "        print(\"Error\")\n",
    "    \n",
    "    \n",
    "    return ans"
   ]
  },
  {
   "cell_type": "code",
   "execution_count": 88,
   "metadata": {},
   "outputs": [
    {
     "name": "stdout",
     "output_type": "stream",
     "text": [
      "data\\US.AK\\closed\\52GY-WHD1-DXDT-G4H1-00000-00.json\n",
      "data\\US.AK\\closed\\53K4-7141-DXDT-G3SM-00000-00.json\n",
      "data\\US.AK\\closed\\548S-R5N1-DXDT-G2CF-00000-00.json\n",
      "data\\US.AK\\closed\\54C3-KHK1-DXDT-G4DB-00000-00.json\n",
      "data\\US.AK\\closed\\54T7-J0P1-DXDT-G2DT-00000-00.json\n",
      "data\\US.AK\\closed\\5793-2PG1-DXDT-G176-00000-00.json\n",
      "data\\US.AK\\closed\\59WB-W4W1-DXDT-G1MR-00000-00.json\n",
      "data\\US.AK\\closed\\5GN2-XGG1-DXDT-G4MK-00000-00.json\n",
      "data\\US.AK\\closed\\5GWG-SKG1-DXDT-G1RN-00000-00.json\n",
      "data\\US.AK\\closed\\5HJW-J2Y1-DXDT-G11X-00000-00.json\n",
      "data\\US.AK\\closed\\7WBN-FKT0-Y892-B566-00000-00.json\n",
      "data\\US.AK\\closed\\7WBN-MSH0-Y892-B018-00000-00.json\n",
      "data\\US.AK\\closed\\7WBN-MWM0-Y892-B2M2-00000-00.json\n",
      "{'47:223': ['Indicted in case 3:11-cr-00068-TMB'], '18:922': ['59 months imprisonment', '3 years supervised release', '$100 special assessment', ['Counts 1 and 2: 12 months and 1 day imprisonment', '3 years supervised release', '$200 special assessment.'], ['40 months imprisonment', '3 years supervised release', '$100 special assessment.'], ['Counts 1 and 2: 1 day Imprisonment', '$500.00 Fine', '$20.00 Special Assessment.'], ['Sentenced in Western District of North Carolina']], '21:846': ['Counts 1-4: 105 months imprisonment', '3 years Supervised Release', '$971.50 Restitution', '$400.00 Special Assessment.'], '21:841': ['Sentenced in Eastern District of California', ['Count 1: Life imprisonment without release.']], '18:1711': ['Count 1: 5 years Probation', '$100.00 Special Assessment', '$2000.00 Fine', '$22,000.00 Restitution.']}\n"
     ]
    }
   ],
   "source": [
    "import re\n",
    "## Do for just one file\n",
    "path = \"data\\\\US.AK\\\\closed\"\n",
    "files = os.listdir(path)\n",
    "# print(files)\n",
    "num = {}\n",
    "for i in files:\n",
    "    filename = os.path.join(path, i)\n",
    "#     print(filename)\n",
    "    ans = extract_desposition_charges(filename)\n",
    "    \n",
    "    if ans != []:\n",
    "        z = re.match(\"[0-9]*:[0-9]*\", ans[0])\n",
    "        if z is not None:\n",
    "            key = z.group()\n",
    "#         print(key)\n",
    "        \n",
    "        if key not in num:\n",
    "            num[key] = ans[1]\n",
    "        else:\n",
    "            num[key].append(ans[1])\n",
    "            \n",
    "print(num)           \n",
    "#     with open(\"ouput\", \"w\") as f:\n",
    "#             json.dump(num, f)\n",
    "#             f.dump(',')"
   ]
  },
  {
   "cell_type": "markdown",
   "metadata": {},
   "source": [
    "## Print charge_description"
   ]
  },
  {
   "cell_type": "code",
   "execution_count": null,
   "metadata": {
    "scrolled": false
   },
   "outputs": [],
   "source": [
    "\n",
    "files = sorted(os.listdir(\"data\"))   \n",
    "\n",
    "for i in files:\n",
    "\n",
    "    file2 = os.listdir(os.path.join(\"data\", str(i)))\n",
    "    file3 = os.listdir(os.path.join(\"data\", str(i), file2[0]))\n",
    "    \n",
    "    for j in file3:\n",
    "        new_path = os.path.join(\"data\", str(i), file2[0], j)\n",
    "        extract_desposition_charges(new_path)"
   ]
  },
  {
   "cell_type": "code",
   "execution_count": null,
   "metadata": {},
   "outputs": [],
   "source": [
    "#                 for i in charge_dispositions:\n",
    "#                     splitt = i.split(\" \")\n",
    "#                     if 'Fine' in splitt:\n",
    "#                         temp = 0\n",
    "#                         for z in splitt:\n",
    "#                             if z[0] is \"$\":\n",
    "#                                     alcohol.append(splitt[temp])\n",
    "#                             temp += 1\n",
    "#                 print(alcohol)"
   ]
  }
 ],
 "metadata": {
  "kernelspec": {
   "display_name": "Python 3",
   "language": "python",
   "name": "python3"
  },
  "language_info": {
   "codemirror_mode": {
    "name": "ipython",
    "version": 3
   },
   "file_extension": ".py",
   "mimetype": "text/x-python",
   "name": "python",
   "nbconvert_exporter": "python",
   "pygments_lexer": "ipython3",
   "version": "3.7.4"
  }
 },
 "nbformat": 4,
 "nbformat_minor": 2
}
