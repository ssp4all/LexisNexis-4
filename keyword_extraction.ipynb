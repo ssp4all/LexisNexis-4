{
 "cells": [
  {
   "cell_type": "code",
   "execution_count": 2,
   "metadata": {},
   "outputs": [
    {
     "data": {
      "text/plain": [
       "[(4.0, 'national park'),\n",
       " (4.0, 'controlled substance'),\n",
       " (3.5, '36 c'),\n",
       " (1.5, 'c'),\n",
       " (1.0, 'r'),\n",
       " (1.0, 'influence'),\n",
       " (1.0, 'f'),\n",
       " (1.0, 'alcohol'),\n",
       " (1.0, '35'),\n",
       " (1.0, '2'),\n",
       " (1.0, '1')]"
      ]
     },
     "execution_count": 2,
     "metadata": {},
     "output_type": "execute_result"
    }
   ],
   "source": [
    "from rake_nltk import Rake\n",
    "r = Rake()\n",
    "r = Rake()\n",
    "\n",
    "text = \"36 C.F.R. 2.35(c) UNDER THE INFLUENCE OF ALCOHOL OR CONTROLLED SUBSTANCE IN NATIONAL PARK(1)\"\n",
    "# Extraction given the text.\n",
    "r.extract_keywords_from_text(text)\n",
    "\n",
    "# Extraction given the list of strings where each string is a sentence.\n",
    "# r.extract_keywords_from_sentences('''Natural Born Killers is a 1994 American satirical black comedy crime film directed by Oliver Stone and starring Woody Harrelson, Juliette Lewis, Robert Downey Jr., Tom Sizemore, and Tommy Lee Jones. The film tells the story of two victims of traumatic childhoods who became lovers and mass murderers, and are irresponsibly glorified by the mass media.''')\n",
    "\n",
    "# To get keyword phrases ranked highest to lowest.\n",
    "r.get_ranked_phrases()\n",
    "\n",
    "# To get keyword phrases ranked highest to lowest with scores.\n",
    "r.get_ranked_phrases_with_scores()"
   ]
  }
 ],
 "metadata": {
  "kernelspec": {
   "display_name": "Python 3",
   "language": "python",
   "name": "python3"
  },
  "language_info": {
   "codemirror_mode": {
    "name": "ipython",
    "version": 3
   },
   "file_extension": ".py",
   "mimetype": "text/x-python",
   "name": "python",
   "nbconvert_exporter": "python",
   "pygments_lexer": "ipython3",
   "version": "3.7.4"
  }
 },
 "nbformat": 4,
 "nbformat_minor": 2
}
